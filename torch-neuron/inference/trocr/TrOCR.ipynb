{
 "cells": [
  {
   "cell_type": "markdown",
   "id": "2a4aa9b8",
   "metadata": {},
   "source": [
    "# TrOCR for AWS Inferentia\n",
    "\n",
    "**Separate encoder/decoder approach**\n",
    "\n",
    "This notebook demonstrates how to compile the TrOCR encoder and decoder for Inferentia, and then swap the compiled models back into the original TrOCR model object.\n",
    "\n",
    "This approach is more flexible than the alternative nn.Sequential \"stacked encoder/decoder\" approach, as variable sequence length can be specified at inference time. However, a possible drawback is that separate inference requests are required for each autogressive decoder call (proportional to sequence length) which could introduce latency for longer sequences.\n",
    "\n",
    "**Reference:** https://huggingface.co/docs/transformers/en/model_doc/trocr"
   ]
  },
  {
   "cell_type": "markdown",
   "id": "66ea195b",
   "metadata": {},
   "source": [
    "## 1) Install dependencies"
   ]
  },
  {
   "cell_type": "code",
   "execution_count": null,
   "id": "8e41c976-116a-4600-bd50-59f681a5c1e8",
   "metadata": {},
   "outputs": [],
   "source": [
    "# Set Pip repository  to point to the Neuron repository\n",
    "%pip config set global.extra-index-url https://pip.repos.neuron.amazonaws.com\n",
    "# now restart the kernel"
   ]
  },
  {
   "cell_type": "code",
   "execution_count": null,
   "id": "163d24c2",
   "metadata": {
    "scrolled": true
   },
   "outputs": [],
   "source": [
    "#Install Neuron PyTorch\n",
    "%pip install -U torch-neuron==1.10.2.2.3.0.0 neuron-cc[tensorflow] \\\n",
    "    \"protobuf<4\" torch==1.10.2 torchvision==0.11.3 transformers==4.21.3 \\\n",
    "    sentencepiece==0.1.97 delegateto==1.5 --extra-index-url https://download.pytorch.org/whl/torch_stable.html\n",
    "# use --force-reinstall if you're facing some issues while loading the modules\n",
    "# now restart the kernel again"
   ]
  },
  {
   "cell_type": "markdown",
   "id": "98e94754",
   "metadata": {},
   "source": [
    "## 2) Initialize libraries and prepare input samples\n",
    "\n",
    "**NOTE: If using a different size model (ex. 'microsoft/trocr-base-printed'), be sure to verify the shapes of the input samples, otherwise tracing won't work properly**"
   ]
  },
  {
   "cell_type": "code",
   "execution_count": null,
   "id": "b7d590bd",
   "metadata": {},
   "outputs": [],
   "source": [
    "import torch\n",
    "from transformers import TrOCRProcessor, VisionEncoderDecoderModel\n",
    "\n",
    "processor = TrOCRProcessor.from_pretrained(\"microsoft/trocr-small-handwritten\") \n",
    "\n",
    "# Maximum sequence length. Autoregressive calls into the decoder can stop before this length is achieved. \n",
    "max_length = 32  \n",
    "\n",
    "input_ids=torch.zeros([1, max_length], dtype=torch.int64)\n",
    "attention_mask=torch.zeros([1, max_length], dtype=torch.int64)\n",
    "encoder_hidden_states=torch.rand([1, 578, 384])\n",
    "pad_size = torch.as_tensor(0)\n",
    "\n",
    "xenc = torch.rand(1,3,384,384).float()\n",
    "xdec = (input_ids, attention_mask, encoder_hidden_states, pad_size)"
   ]
  },
  {
   "cell_type": "markdown",
   "id": "78c268ce",
   "metadata": {},
   "source": [
    "## 3) Load a pre-trained model and check if it is .jit traceable"
   ]
  },
  {
   "cell_type": "code",
   "execution_count": null,
   "id": "4b50de5a",
   "metadata": {},
   "outputs": [],
   "source": [
    "model = VisionEncoderDecoderModel.from_pretrained(\"microsoft/trocr-small-handwritten\").eval()"
   ]
  },
  {
   "cell_type": "markdown",
   "id": "54be66c2",
   "metadata": {},
   "source": [
    "### 3.1) Adjust the encoder to make it traceable"
   ]
  },
  {
   "cell_type": "code",
   "execution_count": null,
   "id": "5e850adf",
   "metadata": {},
   "outputs": [],
   "source": [
    "import types\n",
    "from transformers.modeling_outputs import BaseModelOutputWithPooling\n",
    "def e(self, pixel_values, **kwargs):    \n",
    "    if torch.jit.is_tracing():\n",
    "        print('tracing encoder...')\n",
    "        return self.forward_(pixel_values, **kwargs).last_hidden_state\n",
    "    elif hasattr(self, 'forward_neuron'):\n",
    "        return BaseModelOutputWithPooling(self.forward_neuron(pixel_values))\n",
    "    else:\n",
    "        return self.forward_(pixel_values, **kwargs)\n",
    "\n",
    "if not hasattr(model.encoder, 'forward_'): model.encoder.forward_ = model.encoder.forward\n",
    "model.encoder.forward = types.MethodType(e, model.encoder)"
   ]
  },
  {
   "cell_type": "markdown",
   "id": "280a0106",
   "metadata": {},
   "source": [
    "### 3.2) Adjust the decoder to make it traceable\n",
    "The decoder is more complex because it is invoked many times during prediction with different input shapes. We need to pad the input shapes before compiling the model."
   ]
  },
  {
   "cell_type": "code",
   "execution_count": null,
   "id": "5dd315bf",
   "metadata": {},
   "outputs": [],
   "source": [
    "import types\n",
    "import torch.nn.functional as F\n",
    "from transformers.modeling_outputs import CausalLMOutputWithCrossAttentions\n",
    "\n",
    "def reduce(self, logits, index):\n",
    "    _, n_length, _ = logits.shape\n",
    "\n",
    "    # Create selection mask\n",
    "    mask = torch.arange(n_length, dtype=torch.int32) == index\n",
    "    mask = mask.view(1, -1, 1)\n",
    "\n",
    "    # Broadcast mask\n",
    "    masked = torch.multiply(logits, mask.to(torch.float32))\n",
    "\n",
    "    # Reduce along 1st dimension    \n",
    "    return torch.unsqueeze(torch.sum(masked, 1), 1)\n",
    "\n",
    "def pad(self, input_ids, attention_mask, delta):\n",
    "    pad_val = (0,delta)\n",
    "    input_ids = F.pad(input_ids, pad_val, \"constant\", self.pad_token_id)\n",
    "    attention_mask = F.pad(attention_mask, pad_val, \"constant\", 0)\n",
    "    return input_ids,attention_mask\n",
    "\n",
    "def unpad(self, out, delta):\n",
    "    # Unpad outputs - if we didn't already mess with them\n",
    "    return out[:,0:-delta,:] if out.shape[1] > 1 else out\n",
    "    \n",
    "def d(self, input_ids, attention_mask=None, encoder_hidden_states=None, pad_size=torch.as_tensor(0), **kwargs):\n",
    "    kwargs[\"use_cache\"] = False\n",
    "    if torch.jit.is_tracing():\n",
    "        print('tracing decoder...')\n",
    "        decoder_out = self.model.decoder(input_ids, attention_mask, encoder_hidden_states, **kwargs)\n",
    "        index = torch.as_tensor(decoder_out[0].shape[1] - 1) - pad_size        \n",
    "        logits = self.output_projection( self.reduce(decoder_out[0], index) )\n",
    "        return logits, decoder_out.last_hidden_state\n",
    "    elif hasattr(self, 'forward_neuron'):        \n",
    "        assert input_ids.shape[1] == attention_mask.shape[1]\n",
    "        pad_size = torch.as_tensor(self.max_decoder_length - input_ids.shape[1])\n",
    "        input_ids, attention_mask = self.pad(input_ids, attention_mask, pad_size)\n",
    "        out = self.forward_neuron(input_ids, attention_mask, encoder_hidden_states, pad_size)        \n",
    "        logits,last_hidden_state = [self.unpad(o, pad_size) for o in out]\n",
    "        return CausalLMOutputWithCrossAttentions(logits=logits, hidden_states=last_hidden_state)\n",
    "    else:        \n",
    "        return self.forward_(input_ids, attention_mask, encoder_hidden_states, **kwargs)        \n",
    "\n",
    "if not hasattr(model.decoder, 'forward_'): model.decoder.forward_ = model.decoder.forward\n",
    "if not hasattr(model.decoder, 'max_decoder_length'): model.decoder.max_decoder_length = max_length\n",
    "if not hasattr(model.decoder, 'pad_token_id'): model.decoder.pad_token_id = model.config.decoder.pad_token_id\n",
    "\n",
    "model.decoder.forward = types.MethodType(d, model.decoder)\n",
    "model.decoder.pad = types.MethodType(pad, model.decoder)\n",
    "model.decoder.unpad = types.MethodType(unpad, model.decoder)\n",
    "model.decoder.reduce = types.MethodType(reduce, model.decoder)"
   ]
  },
  {
   "cell_type": "code",
   "execution_count": null,
   "id": "52d3a0ec",
   "metadata": {},
   "outputs": [],
   "source": [
    "import inspect\n",
    "try:\n",
    "    traced_encoder = torch.jit.trace(model.encoder, xenc)\n",
    "    traced_decoder = torch.jit.trace(model.decoder, xdec)\n",
    "    print(traced_encoder(xenc).shape)\n",
    "    y,z=traced_decoder(*xdec)\n",
    "    print(y.shape, z.shape)    \n",
    "    print(\"Cool! Model is jit traceable\")\n",
    "except Exception as e:\n",
    "    print(f\"Ops. Something went wrong. Model is not traceable {e}\")\n",
    "## ok the model is .jit traceable. now let's compile it with NeuronSDK"
   ]
  },
  {
   "cell_type": "markdown",
   "id": "525c0f50",
   "metadata": {},
   "source": [
    "### 3.3) Quick test to verify the traced modules"
   ]
  },
  {
   "cell_type": "code",
   "execution_count": null,
   "id": "153ed8e8",
   "metadata": {},
   "outputs": [],
   "source": [
    "out_before = model.generate(xenc, pad_token_id=model.config.decoder.eos_token_id)\n",
    "model.encoder.forward_neuron = traced_encoder\n",
    "model.decoder.forward_neuron = traced_decoder\n",
    "out_after = model.generate(xenc, pad_token_id=model.config.decoder.eos_token_id)\n",
    "print( \"all good\" if (out_before == out_after).all() else \"oops... error\")"
   ]
  },
  {
   "cell_type": "markdown",
   "id": "b46d0b80",
   "metadata": {},
   "source": [
    "## 4) Analyze & compile the model for Inferentia with NeuronSDK\n",
    "\n",
    "Neuron Check Model tool provides user with basic information about the compiled and uncompiled model’s operations without the use of TensorBoard-Neuron.  \n",
    "https://awsdocs-neuron.readthedocs-hosted.com/en/latest/neuron-guide/neuron-tools/tutorial-neuron-check-model.html\n",
    "\n",
    "\n",
    "The PyTorch-Neuron trace Python API provides a method to generate PyTorch models for execution on Inferentia, which can be serialized as TorchScript. It is analogous to torch.jit.trace() function in PyTorch.   \n",
    "https://awsdocs-neuron.readthedocs-hosted.com/en/latest/neuron-guide/neuron-frameworks/pytorch-neuron/api-compilation-python-api.html?highlight=trace"
   ]
  },
  {
   "cell_type": "code",
   "execution_count": null,
   "id": "79b229f8",
   "metadata": {},
   "outputs": [],
   "source": [
    "import torch\n",
    "import torch.neuron\n",
    "torch.neuron.analyze_model(model.encoder, example_inputs=xenc)\n",
    "torch.neuron.analyze_model(model.decoder, example_inputs=xdec)"
   ]
  },
  {
   "cell_type": "code",
   "execution_count": null,
   "id": "3cd6f6c6",
   "metadata": {
    "scrolled": true
   },
   "outputs": [],
   "source": [
    "import os\n",
    "import torch\n",
    "import torch.neuron\n",
    "\n",
    "if not os.path.isfile(\"troc_encoder_neuron.pt\"):\n",
    "    model_neuron_encoder = torch.neuron.trace(model.encoder, example_inputs=xenc)\n",
    "    ## Export to saved model\n",
    "    model_neuron_encoder.save(\"troc_encoder_neuron.pt\")\n",
    "\n",
    "if not os.path.isfile(\"troc_decoder_neuron.pt\"):\n",
    "    ops = torch.neuron.get_supported_operations() + ['aten::embedding']\n",
    "    model_neuron_decoder = torch.neuron.trace(\n",
    "        model.decoder, example_inputs=xdec, op_whitelist=ops, compiler_args=\"--fast-math none\")\n",
    "    ## Export to saved model\n",
    "    model_neuron_decoder.save(\"troc_decoder_neuron.pt\")"
   ]
  },
  {
   "cell_type": "markdown",
   "id": "b1db4378",
   "metadata": {},
   "source": [
    "### 4.1) Verify the optimized model"
   ]
  },
  {
   "cell_type": "code",
   "execution_count": null,
   "id": "d3113a64",
   "metadata": {
    "scrolled": true
   },
   "outputs": [],
   "source": [
    "import torch\n",
    "import torch.neuron\n",
    "model.encoder.forward_neuron = torch.load('troc_encoder_neuron.pt')\n",
    "model.decoder.forward_neuron = torch.load('troc_decoder_neuron.pt')\n",
    "\n",
    "generated_ids = model.generate(xenc, pad_token_id=model.config.decoder.eos_token_id)\n",
    "generated_text = processor.batch_decode(generated_ids, skip_special_tokens=True)[0]\n",
    "print(generated_text)"
   ]
  },
  {
   "cell_type": "markdown",
   "id": "8a32d3a0",
   "metadata": {},
   "source": [
    "## 5) A simple test to check the predictions"
   ]
  },
  {
   "cell_type": "code",
   "execution_count": 19,
   "id": "d885e404",
   "metadata": {},
   "outputs": [
    {
     "name": "stdout",
     "output_type": "stream",
     "text": [
      "Industrie, \" Mr. Brown commented icily. \" Let us have a\n"
     ]
    },
    {
     "data": {
      "text/plain": [
       "<matplotlib.image.AxesImage at 0x7f7994ac3f10>"
      ]
     },
     "execution_count": 19,
     "metadata": {},
     "output_type": "execute_result"
    },
    {
     "data": {
      "image/png": "[encoded data removed]",
      "text/plain": [
       "<Figure size 720x360 with 1 Axes>"
      ]
     },
     "metadata": {
      "needs_background": "light"
     },
     "output_type": "display_data"
    }
   ],
   "source": [
    "%matplotlib inline\n",
    "import os\n",
    "import sys\n",
    "import cv2\n",
    "import urllib\n",
    "import matplotlib.pyplot as plt\n",
    "if not '..' in sys.path: sys.path.append('..')\n",
    "\n",
    "from common import processing\n",
    "\n",
    "max_len = 32\n",
    "img = processing.load_sample_imgE()\n",
    "\n",
    "pixel_values = processor(img, max_length=max_length, padding='max_length', \n",
    "                         truncate=True, return_tensors=\"pt\").pixel_values\n",
    "generated_ids = model.generate(pixel_values, pad_token_id=model.config.decoder.eos_token_id, max_length=max_len)\n",
    "generated_text = processor.batch_decode(generated_ids, skip_special_tokens=True)[0]\n",
    "print(generated_text)\n",
    "plt.figure(figsize=(10,5))\n",
    "plt.imshow(img)"
   ]
  }
 ],
 "metadata": {
  "kernelspec": {
   "display_name": "Python 3 (ipykernel)",
   "language": "python",
   "name": "python3"
  },
  "language_info": {
   "codemirror_mode": {
    "name": "ipython",
    "version": 3
   },
   "file_extension": ".py",
   "mimetype": "text/x-python",
   "name": "python",
   "nbconvert_exporter": "python",
   "pygments_lexer": "ipython3",
   "version": "3.7.10"
  }
 },
 "nbformat": 4,
 "nbformat_minor": 5
}
