{
 "cells": [
  {
   "attachments": {},
   "cell_type": "markdown",
   "id": "fb8d1e07",
   "metadata": {},
   "source": [
    "# DistilbertBaseUncased - Pytorch\n",
    "This notebook shows how to fine-tune a \"distilbert base uncased\" PyTorch model with AWS Trainium (trn1 instances) using NeuronSDK. The original implementation is provided by HuggingFace.\n",
    "\n",
    "The example has 2 stages:\n",
    "1. First compile the model using the utility `neuron_parallel_compile` to compile the model to run on the AWS Trainium device.\n",
    "1. Run the fine-tuning script to train the model based on the associated task (e.g. mrpc). The training job will use 2 workers with data parallel to speed up the training. If you have a larger instance (trn1.32xlarge) you can increase the worker count to 8 or 32.\n",
    "\n",
    "It has been tested and run on a trn1.2xlarge\n",
    "\n",
    "**Reference:** https://huggingface.co/distilbert-base-uncased"
   ]
  },
  {
   "cell_type": "markdown",
   "id": "bec7fb64",
   "metadata": {},
   "source": [
    "## 1) Install dependencies"
   ]
  },
  {
   "cell_type": "code",
   "execution_count": null,
   "id": "c66c6d24",
   "metadata": {},
   "outputs": [],
   "source": [
    "# Set Pip repository  to point to the Neuron repository\n",
    "%pip config set global.extra-index-url https://pip.repos.neuron.amazonaws.com\n",
    "# now restart the kernel"
   ]
  },
  {
   "cell_type": "code",
   "execution_count": null,
   "id": "c4b410a6",
   "metadata": {},
   "outputs": [],
   "source": [
    "# Please refer to Neuron Document to install Neuron SDK v2.7\n",
    "# Install extra packages\n",
    "%pip install -U \"numpy<=1.20.0\" \"protobuf<4\" \"transformers==4.26.0\" datasets sklearn\n",
    "# use --force-reinstall if you're facing some issues while loading the modules\n",
    "# now restart the kernel again"
   ]
  },
  {
   "cell_type": "code",
   "execution_count": null,
   "id": "6b8468bc",
   "metadata": {},
   "outputs": [],
   "source": [
    "# Clone transformers from Gighub\n",
    "!git clone https://github.com/huggingface/transformers --branch v4.26.0\n"
   ]
  },
  {
   "cell_type": "code",
   "execution_count": null,
   "id": "5aa558de",
   "metadata": {},
   "outputs": [],
   "source": [
    "\n",
    "# workaround for torchrun\n",
    "!sed -i '49i# Disable DDP for torchrun' transformers/examples/pytorch/text-classification/run_glue.py\n",
    "!sed -i '50ifrom transformers import __version__, Trainer' transformers/examples/pytorch/text-classification/run_glue.py\n",
    "!sed -i '51iTrainer._wrap_model = lambda self, model, training=True, dataloader=None: model' transformers/examples/pytorch/text-classification/run_glue.py\n",
    "# workaround for neuron_parallel_compile\n",
    "!sed -i '52i# Workaround for neuron_parallel_compile' transformers/examples/pytorch/text-classification/run_glue.py\n",
    "!sed -i '53iif os.environ.get(\"NEURON_EXTRACT_GRAPHS_ONLY\", None):' transformers/examples/pytorch/text-classification/run_glue.py\n",
    "!sed -i '54i\\ \\ \\ \\ import torch.distributed as dist' transformers/examples/pytorch/text-classification/run_glue.py\n",
    "!sed -i '55i\\ \\ \\ \\ _verify_param_shape_across_processes = lambda process_group, tensors, logger=None: True' transformers/examples/pytorch/text-classification/run_glue.py\n"
   ]
  },
  {
   "cell_type": "markdown",
   "id": "c02a757f",
   "metadata": {},
   "source": [
    "## 2) Set the parameters"
   ]
  },
  {
   "cell_type": "code",
   "execution_count": null,
   "id": "d6cbca3c",
   "metadata": {},
   "outputs": [],
   "source": [
    "model_name = \"distilbert-base-uncased\"\n",
    "env_var_options = \"XLA_USE_BF16=1 NEURON_CC_FLAGS=\\\"--model-type=transformer --cache_dir=./compiler_cache_torchrun\\\"\"\n",
    "num_workers = 2\n",
    "task_name = \"mrpc\"\n",
    "batch_size = 8\n",
    "max_seq_length = 128\n",
    "learning_rate = 2e-05\n",
    "num_train_epochs = 5\n",
    "model_base_name = model_name\n",
    "\n",
    "accuracy_baseline = 0.7"
   ]
  },
  {
   "cell_type": "markdown",
   "id": "0e067b78",
   "metadata": {},
   "source": [
    "## 3) Compile the model with neuron_parallel_compile"
   ]
  },
  {
   "cell_type": "code",
   "execution_count": null,
   "id": "036583ee",
   "metadata": {},
   "outputs": [],
   "source": [
    "print(\"Compile model\")\n",
    "COMPILE_CMD = f\"\"\"{env_var_options} neuron_parallel_compile \\\n",
    "torchrun --nproc_per_node={num_workers} \\\n",
    "transformers/examples/pytorch/text-classification/run_glue.py \\\n",
    "--model_name_or_path {model_name} \\\n",
    "--task_name {task_name} \\\n",
    "--do_train \\\n",
    "--max_seq_length {max_seq_length} \\\n",
    "--per_device_train_batch_size {batch_size} \\\n",
    "--learning_rate {learning_rate} \\\n",
    "--max_train_samples 128 \\\n",
    "--overwrite_output_dir \\\n",
    "--output_dir {model_base_name}-{task_name}-{batch_size}bs |& tee log_compile_{model_base_name}-{task_name}-{batch_size}bs\"\"\"\n",
    "\n",
    "print(f'Running command: \\n{COMPILE_CMD}')\n",
    "! {COMPILE_CMD}"
   ]
  },
  {
   "cell_type": "markdown",
   "id": "c80e2249",
   "metadata": {},
   "source": [
    "## 4) Fine-tune the model"
   ]
  },
  {
   "cell_type": "code",
   "execution_count": null,
   "id": "e4ac998d",
   "metadata": {},
   "outputs": [],
   "source": [
    "print(\"Train model\")\n",
    "RUN_CMD = f\"\"\"{env_var_options} torchrun --nproc_per_node={num_workers} \\\n",
    "transformers/examples/pytorch/text-classification/run_glue.py \\\n",
    "--model_name_or_path {model_name} \\\n",
    "--task_name {task_name} \\\n",
    "--do_train \\\n",
    "--do_eval \\\n",
    "--max_seq_length {max_seq_length} \\\n",
    "--per_device_train_batch_size {batch_size} \\\n",
    "--learning_rate {learning_rate} \\\n",
    "--num_train_epochs {num_train_epochs} \\\n",
    "--overwrite_output_dir \\\n",
    "--output_dir {model_base_name}-{task_name}-{num_workers}w-{batch_size}bs |& tee log_train_{model_base_name}-{task_name}-{num_workers}w-{batch_size}bs\"\"\"\n",
    "\n",
    "print(f'Running command: \\n{RUN_CMD}')\n",
    "! {RUN_CMD}"
   ]
  },
  {
   "attachments": {},
   "cell_type": "markdown",
   "id": "1c61cf0d",
   "metadata": {},
   "source": [
    "## 5) Evaluate results"
   ]
  },
  {
   "cell_type": "code",
   "execution_count": null,
   "id": "10792d8e",
   "metadata": {},
   "outputs": [],
   "source": [
    "import json\n",
    "\n",
    "all_results = json.load(open(f'{model_base_name}-{task_name}-{num_workers}w-{batch_size}bs/all_results.json'))\n",
    "print(all_results['eval_accuracy'])"
   ]
  },
  {
   "cell_type": "code",
   "execution_count": null,
   "id": "6f824339",
   "metadata": {},
   "outputs": [],
   "source": [
    "assert all_results['eval_accuracy'] > accuracy_baseline, f\"Accuracy must be greater than {accuracy_baseline}\""
   ]
  }
 ],
 "metadata": {
  "kernelspec": {
   "display_name": "Python (Neuron v2.7 PyTorch)",
   "language": "python",
   "name": "aws_neuron_venv_pytorch_2.7"
  },
  "language_info": {
   "codemirror_mode": {
    "name": "ipython",
    "version": 3
   },
   "file_extension": ".py",
   "mimetype": "text/x-python",
   "name": "python",
   "nbconvert_exporter": "python",
   "pygments_lexer": "ipython3",
   "version": "3.7.16"
  }
 },
 "nbformat": 4,
 "nbformat_minor": 5
}
