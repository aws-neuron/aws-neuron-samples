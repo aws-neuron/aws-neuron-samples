{
    "cells": [
        {
            "attachments": {},
            "cell_type": "markdown",
            "metadata": {},
            "source": [
                "# ResNet50 training - Pytorch [Beta PyTorch 2.1] \n",
                "This notebook shows how to fine-tune a pretrained ResNet50 Pytorch model with AWS Trainium (trn1 instances) using NeuronSDK.\n",
                "The original implementation is provided by torchvision.\n",
                "\n",
                "The example has 2 stages:\n",
                "1. First compile the model using the utility `neuron_parallel_compile` to compile the model to run on the AWS Trainium device.\n",
                "1. Run the fine-tuning script to train the model based on image classification task. The training job will use 32 workers with data parallel to speed up the training.\n",
                "\n",
                "It has been tested and run on trn1.32xlarge instance\n",
                "\n",
                "**Reference:** \n",
                "\n",
                "https://pytorch.org/vision/main/models/generated/torchvision.models.resnet50.html"
            ]
        },
        {
            "cell_type": "markdown",
            "metadata": {},
            "source": [
                "## 1) Install dependencies"
            ]
        },
        {
            "cell_type": "markdown",
            "metadata": {},
            "source": [
                "Verify that this Jupyter notebook is running the Python kernel environment that was set up according to the [PyTorch Installation Guide](https://awsdocs-neuron.readthedocs-hosted.com/en/latest/general/setup/torch-neuronx.html#setup-torch-neuronx). You can select the kernel from the 'Kernel -> Change Kernel' option on the top of this Jupyter notebook page."
            ]
        },
        {
            "cell_type": "code",
            "execution_count": null,
            "metadata": {},
            "outputs": [],
            "source": [
                "#Install Neuron Compiler and Neuron/XLA packages\n",
                "%pip install -U \"tensorboard\" \"timm\" torchvision==0.16.*\n",
                "# use --force-reinstall if you're facing some issues while loading the modules\n",
                "# now restart the kernel again"
            ]
        },
        {
            "cell_type": "markdown",
            "metadata": {},
            "source": [
                "## 2) Set the parameters"
            ]
        },
        {
            "cell_type": "code",
            "execution_count": null,
            "metadata": {},
            "outputs": [],
            "source": [
                "# use --model-type=cnn-training to gain the best performance\n",
                "env_var_options = \"NEURON_RT_ASYNC_EXEC_MAX_INFLIGHT_REQUESTS=2  \" + \\\n",
                "    \"NEURON_CC_FLAGS=\\'--cache_dir=./compiler_cache --model-type=cnn-training\\'\"\n",
                "num_workers = 32\n",
                "learning_rate = 0.001\n",
                "dataloader_num_workers = 2\n",
                "device_prefetch_size = 2\n",
                "host_to_device_transfer_threads = 4\n",
                "num_epochs = 10"
            ]
        },
        {
            "cell_type": "code",
            "execution_count": null,
            "metadata": {},
            "outputs": [],
            "source": [
                "model_name = \"resnet50\"\n",
                "batch_size = 16"
            ]
        },
        {
            "cell_type": "markdown",
            "metadata": {},
            "source": [
                "## 3) Download CIFAR10 dataset"
            ]
        },
        {
            "cell_type": "code",
            "execution_count": null,
            "metadata": {},
            "outputs": [],
            "source": [
                "!wget -N https://www.cs.toronto.edu/~kriz/cifar-10-python.tar.gz .\n",
                "!tar xfvz cifar-10-python.tar.gz"
            ]
        },
        {
            "cell_type": "markdown",
            "metadata": {},
            "source": [
                "## 4) Compile the model with neuron_parallel_compile"
            ]
        },
        {
            "cell_type": "code",
            "execution_count": null,
            "metadata": {},
            "outputs": [],
            "source": [
                "%%time\n",
                "import subprocess\n",
                "\n",
                "print(\"Compile model\")\n",
                "# set epochs to 2 to reduce the time for tracing training graphs\n",
                "COMPILE_CMD = f\"\"\"\n",
                "   {env_var_options} neuron_parallel_compile torchrun --nproc_per_node={num_workers}\n",
                "   run_image_classification.py\n",
                "      --model {model_name}\n",
                "      --platform torchvision\n",
                "      --pretrained\n",
                "      --num_epochs 2\n",
                "      --batch_size {batch_size}\n",
                "      --pretrained\n",
                "      --lr {learning_rate}\n",
                "      --drop_last\n",
                "   \"\"\".replace('\\n', '')\n",
                "\n",
                "print(f'Running command: \\n{COMPILE_CMD}')\n",
                "if subprocess.check_call(COMPILE_CMD,shell=True):\n",
                "   print(\"There was an error with the compilation command\")\n",
                "else:\n",
                "   print(\"Compilation Success!!!\")"
            ]
        },
        {
            "attachments": {},
            "cell_type": "markdown",
            "metadata": {},
            "source": [
                "## 5) Compile and Fine-tune the model"
            ]
        },
        {
            "cell_type": "code",
            "execution_count": null,
            "metadata": {},
            "outputs": [],
            "source": [
                "%%time\n",
                "print(\"Train model\")\n",
                "RUN_CMD = f\"\"\"\n",
                "   {env_var_options} torchrun --nproc_per_node={num_workers}\n",
                "   run_image_classification.py\n",
                "      --model {model_name}\n",
                "      --platform torchvision\n",
                "      --pretrained\n",
                "      --num_epochs {num_epochs}\n",
                "      --batch_size {batch_size}\n",
                "      --pretrained\n",
                "      --lr {learning_rate}\n",
                "      --do_eval\n",
                "      --drop_last\n",
                "   \"\"\".replace('\\n', '')\n",
                "\n",
                "print(f'Running command: \\n{RUN_CMD}')\n",
                "if subprocess.check_call(RUN_CMD,shell=True):\n",
                "   print(\"There was an error with the fine-tune command\")\n",
                "else:\n",
                "   print(\"Fine-tune Successful!!!\")"
            ]
        }
    ],
    "metadata": {
        "kernelspec": {
            "display_name": "Python (torch-neuronx)",
            "language": "python",
            "name": "aws_neuron_venv_pytorch"
        },
        "language_info": {
            "codemirror_mode": {
                "name": "ipython",
                "version": 3
            },
            "file_extension": ".py",
            "mimetype": "text/x-python",
            "name": "python",
            "nbconvert_exporter": "python",
            "pygments_lexer": "ipython3",
            "version": "3.8.10"
        },
        "orig_nbformat": 4
    },
    "nbformat": 4,
    "nbformat_minor": 2
}
