{
 "cells": [
  {
   "cell_type": "markdown",
   "source": [
    "# AWS Trainium Distributed Training - \"bert-base-cased\" for Sentiment Analysis\n",
    "This notebook shows how to fine-tune a \"bert base cased\" PyTorch model with AWS Trainium (trn1 instances) using NeuronSDK. The original implementation is provided by HuggingFace.\n",
    "\n",
    "Our goal is building a Machine Learning model that will predict whether the tweet is offensive, neutral, or positive (<b>Sentiment Analysis</b>).\n",
    "\n",
    "The target variable is the **Sentiment**, which can be:\n",
    "* Neutral\n",
    "* Positive\n",
    "* Negative\n",
    "\n",
    "In this exercise you will do:\n",
    " - Run a Distributed Training using all the available Neuron Cores\n",
    "\n",
    "The example code referenced for this example is [trainium-distributed-training](./code/02-trainium-distributed-training/train.py)\n",
    "\n",
    "It has been tested and run on a **trn1.32xlarge**\n",
    "\n",
    "**Reference:** https://huggingface.co/bert-base-cased"
   ],
   "metadata": {
    "collapsed": false,
    "pycharm": {
     "name": "#%% md\n"
    }
   }
  },
  {
   "cell_type": "markdown",
   "source": [
    "***"
   ],
   "metadata": {
    "collapsed": false,
    "pycharm": {
     "name": "#%% md\n"
    }
   }
  },
  {
   "cell_type": "markdown",
   "source": [
    "## Step 1 - Install dependencies\n",
    "\n",
    "Let's install some required dependencies for our environment."
   ],
   "metadata": {
    "collapsed": false,
    "pycharm": {
     "name": "#%% md\n"
    }
   }
  },
  {
   "cell_type": "code",
   "execution_count": null,
   "outputs": [],
   "source": [
    "! pip install -r ./code/02-trainium-distributed-training/requirements.txt"
   ],
   "metadata": {
    "collapsed": false,
    "pycharm": {
     "name": "#%%\n"
    }
   }
  },
  {
   "cell_type": "markdown",
   "source": [
    "***"
   ],
   "metadata": {
    "collapsed": false,
    "pycharm": {
     "name": "#%% md\n"
    }
   }
  },
  {
   "cell_type": "markdown",
   "source": [
    "## Step 2 - Fine-Tune the model"
   ],
   "metadata": {
    "collapsed": false,
    "pycharm": {
     "name": "#%% md\n"
    }
   }
  },
  {
   "cell_type": "code",
   "execution_count": null,
   "outputs": [],
   "source": [
    "nproc_per_node = 32"
   ],
   "metadata": {
    "collapsed": false,
    "pycharm": {
     "name": "#%%\n"
    }
   }
  },
  {
   "cell_type": "code",
   "execution_count": null,
   "outputs": [],
   "source": [
    "print(\"Train model\")\n",
    "RUN_CMD = f\"\"\"torchrun --nproc_per_node={nproc_per_node} train.py\"\"\"\n",
    "\n",
    "print(f'Running command: \\n{RUN_CMD}')\n",
    "! {RUN_CMD}"
   ],
   "metadata": {
    "collapsed": false,
    "pycharm": {
     "name": "#%%\n"
    }
   }
  }
 ],
 "metadata": {
  "kernelspec": {
   "display_name": "Python 3",
   "language": "python",
   "name": "python3"
  },
  "language_info": {
   "codemirror_mode": {
    "name": "ipython",
    "version": 2
   },
   "file_extension": ".py",
   "mimetype": "text/x-python",
   "name": "python",
   "nbconvert_exporter": "python",
   "pygments_lexer": "ipython2",
   "version": "2.7.6"
  }
 },
 "nbformat": 4,
 "nbformat_minor": 0
}