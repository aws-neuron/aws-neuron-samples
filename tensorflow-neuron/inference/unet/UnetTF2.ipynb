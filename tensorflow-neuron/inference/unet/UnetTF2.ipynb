{
 "cells": [
  {
   "cell_type": "markdown",
   "id": "62424e4e",
   "metadata": {},
   "source": [
    "# Unet - Tensorflow 2.x\n",
    "In this example, you'll see how to compile a public implementation of an Unet Model created for TF2.x to Inferentia (inf1 instances). There is no pre-trained model, so we'll use a toy dataset to create a simple model.\n",
    "\n",
    "**Reference:** https://github.com/jakeret/unet"
   ]
  },
  {
   "cell_type": "markdown",
   "id": "66ea195b",
   "metadata": {},
   "source": [
    "## 1) Install dependencies"
   ]
  },
  {
   "cell_type": "code",
   "execution_count": null,
   "id": "d1081826",
   "metadata": {},
   "outputs": [],
   "source": [
    "# Set Pip repository  to point to the Neuron repository\n",
    "%pip config set global.extra-index-url https://pip.repos.neuron.amazonaws.com\n",
    "# now restart the kernel"
   ]
  },
  {
   "cell_type": "code",
   "execution_count": null,
   "id": "98a5cf3d",
   "metadata": {
    "scrolled": true
   },
   "outputs": [],
   "source": [
    "#Install Neuron Tensorflow\n",
    "%pip install -U tensorflow-neuron==2.5.2.2.1.14.0 neuron-cc matplotlib\n",
    "# use --force-reinstall if you're facing some issues while loading the modules\n",
    "# now restart the kernel again"
   ]
  },
  {
   "cell_type": "markdown",
   "id": "bef3939b",
   "metadata": {},
   "source": [
    "### 1.1) Clone the repo"
   ]
  },
  {
   "cell_type": "code",
   "execution_count": null,
   "id": "2d7528f1",
   "metadata": {},
   "outputs": [],
   "source": [
    "!git clone https://github.com/jakeret/unet"
   ]
  },
  {
   "cell_type": "markdown",
   "id": "98e94754",
   "metadata": {},
   "source": [
    "## 2) Initialize libraries and prepare input samples"
   ]
  },
  {
   "cell_type": "code",
   "execution_count": null,
   "id": "1208e104",
   "metadata": {},
   "outputs": [],
   "source": [
    "import sys\n",
    "sys.path.insert(0,'unet/src')\n",
    "import tensorflow as tf\n",
    "import tensorflow.neuron as tfn\n",
    "import matplotlib.pyplot as plt\n",
    "import numpy as np\n",
    "import unet\n",
    "from unet import utils\n",
    "from unet.datasets import circles\n",
    "tf.__version__"
   ]
  },
  {
   "cell_type": "markdown",
   "id": "78c268ce",
   "metadata": {},
   "source": [
    "## 3) Build a new model"
   ]
  },
  {
   "cell_type": "markdown",
   "id": "70760ef6",
   "metadata": {},
   "source": [
    "### 3.1) Prepare and train the model"
   ]
  },
  {
   "cell_type": "code",
   "execution_count": null,
   "id": "e412d12c",
   "metadata": {},
   "outputs": [],
   "source": [
    "unet_model = unet.build_model(channels=circles.channels,\n",
    "                              num_classes=circles.classes,\n",
    "                              layer_depth=3,\n",
    "                              filters_root=16)\n",
    "unet.finalize_model(unet_model)\n",
    "train_dataset, validation_dataset = circles.load_data(100, nx=200, ny=200, splits=(0.7, 0.3))\n",
    "trainer = unet.Trainer(checkpoint_callback=False)"
   ]
  },
  {
   "cell_type": "code",
   "execution_count": null,
   "id": "efcbb364",
   "metadata": {},
   "outputs": [],
   "source": [
    "trainer.fit(unet_model,\n",
    "            train_dataset,\n",
    "            validation_dataset,\n",
    "            epochs=5,\n",
    "            batch_size=1)\n",
    "unet_model.save('unet_circles.h5')"
   ]
  },
  {
   "cell_type": "markdown",
   "id": "9520df2c",
   "metadata": {},
   "source": [
    "### 3.2) Run the model and plot the results"
   ]
  },
  {
   "cell_type": "code",
   "execution_count": null,
   "id": "a5e73800",
   "metadata": {},
   "outputs": [],
   "source": [
    "def plot_predictions(predictions):\n",
    "    fig, ax = plt.subplots(3, 3, sharex=True, sharey=True, figsize=(10,10))\n",
    "    dataset = validation_dataset.map(utils.crop_image_and_label_to_shape(predictions.shape[1:]))\n",
    "\n",
    "    for i, (image, label) in enumerate(dataset.take(3)):\n",
    "        ax[i][0].matshow(image[..., -1]); ax[i][0].set_title('Original Image'); ax[i][0].axis('off')\n",
    "        ax[i][1].matshow(np.argmax(label, axis=-1), cmap=plt.cm.gray); ax[i][1].set_title('Original Mask'); ax[i][1].axis('off')\n",
    "        ax[i][2].matshow(np.argmax(predictions[i,...], axis=-1), cmap=plt.cm.gray); ax[i][2].set_title('Predicted Mask'); ax[i][2].axis('off')\n",
    "    plt.tight_layout()"
   ]
  },
  {
   "cell_type": "code",
   "execution_count": null,
   "id": "7f843d65",
   "metadata": {},
   "outputs": [],
   "source": [
    "predictions = unet_model.predict(validation_dataset.batch(batch_size=3))\n",
    "print(predictions.shape)"
   ]
  },
  {
   "cell_type": "code",
   "execution_count": null,
   "id": "50120be6",
   "metadata": {},
   "outputs": [],
   "source": [
    "plot_predictions(predictions)"
   ]
  },
  {
   "cell_type": "markdown",
   "id": "b46d0b80",
   "metadata": {},
   "source": [
    "## 4) Compile the model for Inferentia with NeuronSDK"
   ]
  },
  {
   "cell_type": "code",
   "execution_count": null,
   "id": "8406f1f5",
   "metadata": {},
   "outputs": [],
   "source": [
    "import os\n",
    "\n",
    "x = validation_dataset.batch(batch_size=3)\n",
    "x = next(iter(x))[0]\n",
    "\n",
    "# https://awsdocs-neuron.readthedocs-hosted.com/en/latest/neuron-guide/neuron-cc/command-line-reference.html\n",
    "os.environ[\"NEURON_CC_FLAGS\"] = \"--verbose=DEBUG --neuroncore-pipeline-cores=1 --workdir=logs/ --dynamic-batch-size\"\n",
    "neuron_model = tfn.trace(unet_model, x)\n",
    "neuron_model.save('unet_circles_neuron')"
   ]
  },
  {
   "cell_type": "code",
   "execution_count": null,
   "id": "1bc3f061",
   "metadata": {},
   "outputs": [],
   "source": [
    "y = neuron_model(x) # warmup\n",
    "%timeit neuron_model(x)"
   ]
  },
  {
   "cell_type": "markdown",
   "id": "8a32d3a0",
   "metadata": {},
   "source": [
    "## 5) A simple test to check the predictions"
   ]
  },
  {
   "cell_type": "code",
   "execution_count": null,
   "id": "fb8945cb",
   "metadata": {},
   "outputs": [],
   "source": [
    "neuron_model = tf.saved_model.load('unet_circles_neuron')\n",
    "predictions = neuron_model(x)\n",
    "print(predictions.shape)\n",
    "plot_predictions(predictions)"
   ]
  },
  {
   "cell_type": "code",
   "execution_count": null,
   "id": "ecae9610",
   "metadata": {},
   "outputs": [],
   "source": []
  }
 ],
 "metadata": {
  "kernelspec": {
   "display_name": "Python (Neuron TensorFlow)",
   "language": "python",
   "name": "tensorflow_venv"
  },
  "language_info": {
   "codemirror_mode": {
    "name": "ipython",
    "version": 3
   },
   "file_extension": ".py",
   "mimetype": "text/x-python",
   "name": "python",
   "nbconvert_exporter": "python",
   "pygments_lexer": "ipython3",
   "version": "3.7.16"
  }
 },
 "nbformat": 4,
 "nbformat_minor": 5
}
